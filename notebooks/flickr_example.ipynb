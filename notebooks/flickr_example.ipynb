{
 "cells": [
  {
   "cell_type": "code",
   "execution_count": 1,
   "metadata": {
    "collapsed": true
   },
   "outputs": [],
   "source": [
    "import pandas as pd\n",
    "import numpy as np\n",
    "import scipy.sparse as sp\n",
    "import tensorflow as tf\n",
    "import itertools as it\n",
    "import pickle\n",
    "import os\n",
    "from sklearn.model_selection import ShuffleSplit\n",
    "\n",
    "from tensorflow.contrib.tensorboard.plugins import projector\n",
    "\n",
    "from time import time\n",
    "\n",
    "from importlib import reload\n",
    "import sys\n",
    "if '..' not in sys.path:\n",
    "    sys.path.append('..')\n",
    "from sertf import core\n",
    "reload(core)\n",
    "\n",
    "LOG_DIR = '/tmp/tensorboard-logs/semantic/'\n",
    "\n",
    "PATH_DATA = '../data/flickr/Flickr8k_text/df.msg'\n",
    "PATH_ENC_TXT = '../data/flickr/Flickr8k_text/txt_enc_s.msg'\n",
    "PATH_VOCAB = '../data/flickr/Flickr8k_text/vocab.p'\n",
    "\n",
    "entity_col = 'img'\n",
    "\n",
    "SEED = 322"
   ]
  },
  {
   "cell_type": "code",
   "execution_count": 2,
   "metadata": {
    "collapsed": true
   },
   "outputs": [],
   "source": [
    "df = pd.read_msgpack(PATH_DATA)\n",
    "data_words_enc = pd.read_msgpack(PATH_ENC_TXT)\n",
    "vocab = pickle.load(open(PATH_VOCAB, 'rb'))"
   ]
  },
  {
   "cell_type": "code",
   "execution_count": 3,
   "metadata": {
    "collapsed": true
   },
   "outputs": [],
   "source": [
    "n_entities = len(df[entity_col].cat.categories)"
   ]
  },
  {
   "cell_type": "code",
   "execution_count": 4,
   "metadata": {
    "collapsed": true
   },
   "outputs": [],
   "source": [
    "entity_codes = df[entity_col].cat.codes.values"
   ]
  },
  {
   "cell_type": "markdown",
   "metadata": {},
   "source": [
    "# Split"
   ]
  },
  {
   "cell_type": "code",
   "execution_count": 5,
   "metadata": {},
   "outputs": [],
   "source": [
    "# Nothing special about holding out entire images or stratification\n",
    "ss = ShuffleSplit(test_size=0.1).split(df)\n",
    "tsplit_inds, vsplit_inds = next(ss)"
   ]
  },
  {
   "cell_type": "code",
   "execution_count": 6,
   "metadata": {
    "scrolled": false
   },
   "outputs": [],
   "source": [
    "model = core.Model(vocab, n_entities)"
   ]
  },
  {
   "cell_type": "code",
   "execution_count": 12,
   "metadata": {},
   "outputs": [],
   "source": [
    "batch_size = 1024\n",
    "train_gen = core.win_gen(\n",
    "    data_words_enc.iloc[tsplit_inds],\n",
    "    entity_codes, n_entities,\n",
    "    model.n_negs_per_pos,\n",
    "    model.ph_d, batch_size=batch_size)"
   ]
  },
  {
   "cell_type": "code",
   "execution_count": 9,
   "metadata": {},
   "outputs": [],
   "source": [
    "proj_config = projector.ProjectorConfig()\n",
    "\n",
    "word_proj = proj_config.embeddings.add()\n",
    "word_proj.tensor_name = model.emb_d['word'].name\n",
    "word_proj.metadata_path = os.path.join(LOG_DIR, 'word_metadata.tsv')\n",
    "\n",
    "# single column meta does not have header\n",
    "pd.Series(list(enumerate(vocab))).to_csv(os.path.join(LOG_DIR, 'word_metadata.tsv'), sep='\\t', index=False, header=False)\n",
    "\n",
    "summary_writer = tf.summary.FileWriter(LOG_DIR)"
   ]
  },
  {
   "cell_type": "code",
   "execution_count": 14,
   "metadata": {
    "scrolled": false
   },
   "outputs": [
    {
     "name": "stdout",
     "output_type": "stream",
     "text": [
      "Approx # epochs: 25.308947108255065\n",
      "0 0.06989073753356934\n",
      "100 2.8891751766204834\n",
      "200 2.7198870182037354\n",
      "300 2.550952434539795\n",
      "400 2.710646629333496\n",
      "500 2.6968531608581543\n",
      "600 2.8775994777679443\n",
      "700 2.8592147827148438\n",
      "800 2.787973642349243\n",
      "900 2.7136423587799072\n",
      "CPU times: user 20.1 s, sys: 1.32 s, total: 21.4 s\n",
      "Wall time: 27.8 s\n"
     ]
    }
   ],
   "source": [
    "%%time\n",
    "max_steps = 1000\n",
    "\n",
    "print(f'Approx # epochs: {max_steps*batch_size/len(df)}')\n",
    "\n",
    "gpu_opts = tf.GPUOptions(per_process_gpu_memory_fraction=0.5)\n",
    "saver = tf.train.Saver()\n",
    "summary_writer = tf.summary.FileWriter(LOG_DIR)\n",
    "\n",
    "with tf.Session(config=tf.ConfigProto(gpu_options=gpu_opts)) as sess:\n",
    "    sess.run(tf.global_variables_initializer())\n",
    "    tic = time()\n",
    "    for step in range(max_steps):\n",
    "        feed = next(train_gen)\n",
    "        sess.run(model.train_op, feed_dict=feed)\n",
    "    \n",
    "        if (step%100) == 0:\n",
    "            toc = time() - tic\n",
    "            print(step, toc)\n",
    "            tic = time()\n",
    "\n",
    "            saver.save(sess, os.path.join(LOG_DIR, \"model.ckpt\"), step)\n",
    "            projector.visualize_embeddings(summary_writer, proj_config)"
   ]
  }
 ],
 "metadata": {
  "kernelspec": {
   "display_name": "Python 3",
   "language": "python",
   "name": "python3"
  },
  "language_info": {
   "codemirror_mode": {
    "name": "ipython",
    "version": 3
   },
   "file_extension": ".py",
   "mimetype": "text/x-python",
   "name": "python",
   "nbconvert_exporter": "python",
   "pygments_lexer": "ipython3",
   "version": "3.6.1"
  }
 },
 "nbformat": 4,
 "nbformat_minor": 2
}
