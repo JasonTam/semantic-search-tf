{
 "cells": [
  {
   "cell_type": "code",
   "execution_count": 1,
   "metadata": {},
   "outputs": [],
   "source": [
    "import pandas as pd\n",
    "import numpy as np\n",
    "import scipy.sparse as sp\n",
    "import tensorflow as tf\n",
    "import itertools as it\n",
    "import pickle\n",
    "import os\n",
    "\n",
    "from tensorflow.contrib.tensorboard.plugins import projector\n",
    "\n",
    "from time import time\n",
    "\n",
    "from importlib import reload\n",
    "import sys\n",
    "if '..' not in sys.path:\n",
    "    sys.path.append('..')\n",
    "from sertf import core\n",
    "reload(core)\n",
    "\n",
    "LOG_DIR = '/tmp/tensorboard-logs/semantic/'\n",
    "\n",
    "PATH_DATA = '../data/amazon/food/reviews_df.msg'\n",
    "PATH_ENC_TXT = '../data/amazon/food/reviews_txt_enc_s.msg'\n",
    "PATH_VOCAB = '../data/amazon/food/vocab.p'\n",
    "\n",
    "entity_col = 'ProductId'"
   ]
  },
  {
   "cell_type": "code",
   "execution_count": 2,
   "metadata": {
    "collapsed": true
   },
   "outputs": [],
   "source": [
    "df = pd.read_msgpack(PATH_DATA)\n",
    "data_words_enc = pd.read_msgpack('../data/amazon/food/reviews_txt_enc_s.msg')\n",
    "vocab = pickle.load(open(PATH_VOCAB, 'rb'))"
   ]
  },
  {
   "cell_type": "code",
   "execution_count": 3,
   "metadata": {
    "collapsed": true
   },
   "outputs": [],
   "source": [
    "n_entities = len(df[entity_col].cat.categories)"
   ]
  },
  {
   "cell_type": "code",
   "execution_count": 4,
   "metadata": {
    "collapsed": true
   },
   "outputs": [],
   "source": [
    "entity_codes = df[entity_col].cat.codes.values"
   ]
  },
  {
   "cell_type": "code",
   "execution_count": 5,
   "metadata": {},
   "outputs": [],
   "source": [
    "model = core.Model(vocab, n_entities)"
   ]
  },
  {
   "cell_type": "code",
   "execution_count": 6,
   "metadata": {},
   "outputs": [],
   "source": [
    "gen = core.win_gen(data_words_enc, entity_codes, n_entities,\n",
    "                        model.n_negs_per_pos,\n",
    "                        model.ph_d, model.batch_size)"
   ]
  },
  {
   "cell_type": "code",
   "execution_count": 8,
   "metadata": {
    "collapsed": true
   },
   "outputs": [],
   "source": [
    "proj_config = projector.ProjectorConfig()\n",
    "\n",
    "word_proj = proj_config.embeddings.add()\n",
    "word_proj.tensor_name = model.embs_d['word'].name\n",
    "word_proj.metadata_path = os.path.join(LOG_DIR, 'word_metadata.tsv')\n",
    "\n",
    "# single column meta does not have header\n",
    "pd.Series(list(enumerate(vocab))).to_csv(os.path.join(LOG_DIR, 'word_metadata.tsv'), sep='\\t', index=False, header=False)\n",
    "\n",
    "summary_writer = tf.summary.FileWriter(LOG_DIR)"
   ]
  },
  {
   "cell_type": "code",
   "execution_count": 10,
   "metadata": {},
   "outputs": [
    {
     "name": "stdout",
     "output_type": "stream",
     "text": [
      "Approx # epochs: 18.013770683291877\n",
      "0 0.03285670280456543\n",
      "1000 16.049452304840088\n",
      "2000 15.728713274002075\n",
      "3000 15.971048355102539\n",
      "4000 16.119661331176758\n",
      "5000 15.836517572402954\n",
      "6000 16.446090936660767\n",
      "7000 17.299010276794434\n",
      "8000 15.81524109840393\n",
      "9000 15.67464303970337\n",
      "CPU times: user 3min 35s, sys: 8.35 s, total: 3min 43s\n",
      "Wall time: 2min 41s\n"
     ]
    }
   ],
   "source": [
    "%%time\n",
    "max_steps = 10000\n",
    "\n",
    "print(f'Approx # epochs: {max_steps*model.batch_size/len(df)}')\n",
    "\n",
    "gpu_opts = tf.GPUOptions(per_process_gpu_memory_fraction=0.5)\n",
    "saver = tf.train.Saver()\n",
    "summary_writer = tf.summary.FileWriter(LOG_DIR)\n",
    "\n",
    "with tf.Session(config=tf.ConfigProto(gpu_options=gpu_opts)) as sess:\n",
    "    sess.run(tf.global_variables_initializer())\n",
    "    tic = time()\n",
    "    for step in range(max_steps):\n",
    "        feed = next(gen)\n",
    "        sess.run(model.train_op, feed_dict=feed)\n",
    "    \n",
    "        if (step%1000) == 0:\n",
    "            toc = time() - tic\n",
    "            print(step, toc)\n",
    "            tic = time()\n",
    "\n",
    "            saver.save(sess, os.path.join(LOG_DIR, \"model.ckpt\"), step)\n",
    "            projector.visualize_embeddings(summary_writer, proj_config)"
   ]
  }
 ],
 "metadata": {
  "kernelspec": {
   "display_name": "Python 3",
   "language": "python",
   "name": "python3"
  },
  "language_info": {
   "codemirror_mode": {
    "name": "ipython",
    "version": 3
   },
   "file_extension": ".py",
   "mimetype": "text/x-python",
   "name": "python",
   "nbconvert_exporter": "python",
   "pygments_lexer": "ipython3",
   "version": "3.6.1"
  }
 },
 "nbformat": 4,
 "nbformat_minor": 2
}
