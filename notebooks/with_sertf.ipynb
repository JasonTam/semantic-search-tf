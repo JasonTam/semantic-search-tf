{
 "cells": [
  {
   "cell_type": "code",
   "execution_count": 1,
   "metadata": {},
   "outputs": [],
   "source": [
    "import pandas as pd\n",
    "import numpy as np\n",
    "import scipy.sparse as sp\n",
    "import tensorflow as tf\n",
    "import itertools as it\n",
    "import pickle\n",
    "import os\n",
    "\n",
    "from tensorflow.contrib.tensorboard.plugins import projector\n",
    "\n",
    "from time import time\n",
    "\n",
    "from importlib import reload\n",
    "import sys\n",
    "if '..' not in sys.path:\n",
    "    sys.path.append('..')\n",
    "from sertf import core\n",
    "reload(core)\n",
    "\n",
    "LOG_DIR = '/tmp/tensorboard-logs/semantic/'\n",
    "\n",
    "PATH_DATA = '../data/amazon/food/reviews_df.msg'\n",
    "PATH_ENC_TXT = '../data/amazon/food/reviews_txt_enc_s.msg'\n",
    "PATH_VOCAB = '../data/amazon/food/vocab.p'\n",
    "\n",
    "entity_col = 'ProductId'"
   ]
  },
  {
   "cell_type": "code",
   "execution_count": 2,
   "metadata": {
    "collapsed": true
   },
   "outputs": [],
   "source": [
    "df = pd.read_msgpack(PATH_DATA)\n",
    "data_words_enc = pd.read_msgpack('../data/amazon/food/reviews_txt_enc_s.msg')\n",
    "vocab = pickle.load(open(PATH_VOCAB, 'rb'))"
   ]
  },
  {
   "cell_type": "code",
   "execution_count": 3,
   "metadata": {
    "collapsed": true
   },
   "outputs": [],
   "source": [
    "n_entities = len(df[entity_col].cat.categories)"
   ]
  },
  {
   "cell_type": "code",
   "execution_count": 4,
   "metadata": {
    "collapsed": true
   },
   "outputs": [],
   "source": [
    "entity_codes = df[entity_col].cat.codes.values"
   ]
  },
  {
   "cell_type": "code",
   "execution_count": 5,
   "metadata": {},
   "outputs": [],
   "source": [
    "model = core.Model(vocab, n_entities)"
   ]
  },
  {
   "cell_type": "code",
   "execution_count": 6,
   "metadata": {},
   "outputs": [],
   "source": [
    "gen = core.win_gen(data_words_enc, entity_codes, n_entities,\n",
    "                        model.n_negs_per_pos,\n",
    "                        model.ph_d, model.batch_size)"
   ]
  },
  {
   "cell_type": "code",
   "execution_count": 8,
   "metadata": {},
   "outputs": [
    {
     "name": "stdout",
     "output_type": "stream",
     "text": [
      "Approx # epochs: 0.18013770683291877\n",
      "CPU times: user 2.3 s, sys: 232 ms, total: 2.53 s\n",
      "Wall time: 1.9 s\n"
     ]
    }
   ],
   "source": [
    "%%time\n",
    "max_steps = 100\n",
    "\n",
    "print(f'Approx # epochs: {max_steps*model.batch_size/len(df)}')\n",
    "\n",
    "gpu_opts = tf.GPUOptions(per_process_gpu_memory_fraction=0.5)\n",
    "saver = tf.train.Saver()\n",
    "summary_writer = tf.summary.FileWriter(LOG_DIR)\n",
    "\n",
    "with tf.Session(config=tf.ConfigProto(gpu_options=gpu_opts)) as sess:\n",
    "    sess.run(tf.global_variables_initializer())\n",
    "    tic = time()\n",
    "    for step in range(max_steps):\n",
    "        feed = next(gen)\n",
    "        sess.run(model.train_op, feed_dict=feed)\n",
    "    "
   ]
  }
 ],
 "metadata": {
  "kernelspec": {
   "display_name": "Python 3",
   "language": "python",
   "name": "python3"
  },
  "language_info": {
   "codemirror_mode": {
    "name": "ipython",
    "version": 3
   },
   "file_extension": ".py",
   "mimetype": "text/x-python",
   "name": "python",
   "nbconvert_exporter": "python",
   "pygments_lexer": "ipython3",
   "version": "3.6.1"
  }
 },
 "nbformat": 4,
 "nbformat_minor": 2
}
